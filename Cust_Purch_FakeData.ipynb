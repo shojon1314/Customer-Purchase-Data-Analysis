{
 "cells": [
  {
   "cell_type": "code",
   "execution_count": null,
   "id": "9dc515f4",
   "metadata": {},
   "outputs": [],
   "source": []
  },
  {
   "cell_type": "code",
   "execution_count": 1,
   "id": "89ef60cc",
   "metadata": {},
   "outputs": [],
   "source": [
    "import pandas as pd\n"
   ]
  },
  {
   "cell_type": "code",
   "execution_count": 2,
   "id": "dcff17b9",
   "metadata": {},
   "outputs": [],
   "source": [
    "# Load the CSV file\n",
    "df = pd.read_csv('Cust_Purch_FakeData.csv')"
   ]
  },
  {
   "cell_type": "code",
   "execution_count": 3,
   "id": "fb19dda7",
   "metadata": {},
   "outputs": [],
   "source": [
    "#1. How many entries does your data have? Can you tell the number of columns in your data?\n",
    "\n",
    "# Number of entries (rows) and columns.\n",
    "\n",
    "num_entries = df.shape[0]\n",
    "num_columns = df.shape[1]"
   ]
  },
  {
   "cell_type": "code",
   "execution_count": 4,
   "id": "e41343b7",
   "metadata": {},
   "outputs": [
    {
     "name": "stdout",
     "output_type": "stream",
     "text": [
      "Number of entries: 30000\n",
      "Number of columns: 20\n"
     ]
    }
   ],
   "source": [
    "print(f\"Number of entries: {num_entries}\")\n",
    "print(f\"Number of columns: {num_columns}\")"
   ]
  },
  {
   "cell_type": "code",
   "execution_count": 5,
   "id": "7b20e65e",
   "metadata": {},
   "outputs": [],
   "source": [
    "# 2. What are the max and min ages of your customer? Can you find the mean of your customer?\n",
    "\n",
    "\n",
    "max_age = df['age'].max()\n",
    "min_age = df['age'].min()\n",
    "mean_age = df['age'].mean()"
   ]
  },
  {
   "cell_type": "code",
   "execution_count": 6,
   "id": "5110cbfd",
   "metadata": {},
   "outputs": [
    {
     "name": "stdout",
     "output_type": "stream",
     "text": [
      "Max age: 65\n",
      "Min age: 18\n",
      "Mean age: 41.550066666666666\n"
     ]
    }
   ],
   "source": [
    "\n",
    "print(f\"Max age: {max_age}\")\n",
    "print(f\"Min age: {min_age}\")\n",
    "print(f\"Mean age: {mean_age}\")"
   ]
  },
  {
   "cell_type": "code",
   "execution_count": 7,
   "id": "2cb4d69a",
   "metadata": {},
   "outputs": [],
   "source": [
    " # 3. What are the three most common customer's names?\n",
    "    \n",
    "top_names = df['first'].value_counts().head(3)"
   ]
  },
  {
   "cell_type": "code",
   "execution_count": 8,
   "id": "5be282f0",
   "metadata": {},
   "outputs": [
    {
     "name": "stdout",
     "output_type": "stream",
     "text": [
      "Top 3 most common names:\n",
      "Willie     130\n",
      "Francis    124\n",
      "Eula        86\n",
      "Name: first, dtype: int64\n"
     ]
    }
   ],
   "source": [
    "print(\"Top 3 most common names:\")\n",
    "print(top_names)"
   ]
  },
  {
   "cell_type": "code",
   "execution_count": 9,
   "id": "9f4d8d36",
   "metadata": {},
   "outputs": [],
   "source": [
    "# 4. Two customers have the same phone number, can you find those customers?\n",
    "\n",
    "duplicate_phones = df[df.duplicated('phone', keep=False)]"
   ]
  },
  {
   "cell_type": "code",
   "execution_count": 10,
   "id": "df8e18ac",
   "metadata": {},
   "outputs": [
    {
     "name": "stdout",
     "output_type": "stream",
     "text": [
      "Customers with the same phone number:\n",
      "    first   last           phone\n",
      "15  Lilly  Tyler  (263) 382-8004\n",
      "16  Peter   Cain  (263) 382-8004\n"
     ]
    }
   ],
   "source": [
    "print(\"Customers with the same phone number:\")\n",
    "print(duplicate_phones[['first', 'last', 'phone']])"
   ]
  },
  {
   "cell_type": "code",
   "execution_count": 11,
   "id": "1eceff79",
   "metadata": {},
   "outputs": [],
   "source": [
    "# 5. How many customers have the profession \"Structural Engineer\"?\n",
    "\n",
    "structural_engineers = df[df['profession'] == 'Structural Engineer']\n",
    "num_structural_engineers = len(structural_engineers)\n"
   ]
  },
  {
   "cell_type": "code",
   "execution_count": 12,
   "id": "5a6d578a",
   "metadata": {},
   "outputs": [
    {
     "name": "stdout",
     "output_type": "stream",
     "text": [
      "Number of Structural Engineers: 87\n"
     ]
    }
   ],
   "source": [
    "print(f\"Number of Structural Engineers: {num_structural_engineers}\")"
   ]
  },
  {
   "cell_type": "code",
   "execution_count": 13,
   "id": "ab1b8b7b",
   "metadata": {},
   "outputs": [],
   "source": [
    "# 6. How many male customers are 'Structural Engineer'?\n",
    "\n",
    "male_structural_engineers = df[(df['profession'] == 'Structural Engineer') & (df['gender'] == 'Male')]\n",
    "num_male_structural_engineers = len(male_structural_engineers)"
   ]
  },
  {
   "cell_type": "code",
   "execution_count": 14,
   "id": "29ed60ba",
   "metadata": {},
   "outputs": [
    {
     "name": "stdout",
     "output_type": "stream",
     "text": [
      "Number of male Structural Engineers: 43\n"
     ]
    }
   ],
   "source": [
    "print(f\"Number of male Structural Engineers: {num_male_structural_engineers}\")"
   ]
  },
  {
   "cell_type": "code",
   "execution_count": 15,
   "id": "31ed7aeb",
   "metadata": {},
   "outputs": [],
   "source": [
    "#  7. Find out the female Structural Engineers from province Alberta (AB)?\n",
    "\n",
    "female_structural_engineers_ab = df[(df['profession'] == 'Structural Engineer') & (df['gender'] == 'Female') & (df['province'] == 'AB')]\n"
   ]
  },
  {
   "cell_type": "code",
   "execution_count": 16,
   "id": "e4bc3f18",
   "metadata": {},
   "outputs": [
    {
     "name": "stdout",
     "output_type": "stream",
     "text": [
      "Female Structural Engineers from Alberta (AB):\n",
      "      first      last province\n",
      "8858    Roy   Stanley       AB\n",
      "9058   Lora   Kennedy       AB\n",
      "24736  Nell  Richards       AB\n",
      "29865   Don  McDaniel       AB\n"
     ]
    }
   ],
   "source": [
    "print(\"Female Structural Engineers from Alberta (AB):\")\n",
    "print(female_structural_engineers_ab[['first', 'last', 'province']])"
   ]
  },
  {
   "cell_type": "code",
   "execution_count": 17,
   "id": "bdd10a23",
   "metadata": {},
   "outputs": [],
   "source": [
    "# 8. What is the max, min, and average spending?\n",
    "\n",
    "max_spending = df['price(CAD)'].max()\n",
    "min_spending = df['price(CAD)'].min()\n",
    "avg_spending = df['price(CAD)'].mean()\n"
   ]
  },
  {
   "cell_type": "code",
   "execution_count": 18,
   "id": "05ed3ad0",
   "metadata": {},
   "outputs": [
    {
     "name": "stdout",
     "output_type": "stream",
     "text": [
      "Max spending: 100.0\n",
      "Min spending: 0.0\n",
      "Average spending: 49.990775\n"
     ]
    }
   ],
   "source": [
    "print(f\"Max spending: {max_spending}\")\n",
    "print(f\"Min spending: {min_spending}\")\n",
    "print(f\"Average spending: {avg_spending}\")"
   ]
  },
  {
   "cell_type": "code",
   "execution_count": 19,
   "id": "9abb1e98",
   "metadata": {},
   "outputs": [],
   "source": [
    "# 9. Who did not spend anything? Company wants to send a deal to encourage the customer to buy stuff!\n",
    "\n",
    "zero_spending_customers = df[df['price(CAD)'] == 0]"
   ]
  },
  {
   "cell_type": "code",
   "execution_count": 20,
   "id": "7a39389a",
   "metadata": {},
   "outputs": [
    {
     "name": "stdout",
     "output_type": "stream",
     "text": [
      "Customers who did not spend anything:\n",
      "       first   last  price(CAD)\n",
      "5320   Bruce  Bryan         0.0\n",
      "10597  Flora  Clark         0.0\n"
     ]
    }
   ],
   "source": [
    "print(\"Customers who did not spend anything:\")\n",
    "print(zero_spending_customers[['first', 'last', 'price(CAD)']])"
   ]
  },
  {
   "cell_type": "code",
   "execution_count": 21,
   "id": "c479065b",
   "metadata": {},
   "outputs": [],
   "source": [
    "# 10. As a loyalty reward, the company wants to send thanks coupons to those who spent 100 CAD or more. Please find out the customers.\n",
    "high_spending_customers = df[df['price(CAD)'] >= 100]\n"
   ]
  },
  {
   "cell_type": "code",
   "execution_count": 22,
   "id": "c11ea9bc",
   "metadata": {},
   "outputs": [
    {
     "name": "stdout",
     "output_type": "stream",
     "text": [
      "Customers who spent 100 CAD or more:\n",
      "         first         last  price(CAD)\n",
      "76     Gregory        Brown       100.0\n",
      "21093     Cody  Christensen       100.0\n",
      "24385   Lizzie        Dixon       100.0\n"
     ]
    }
   ],
   "source": [
    "print(\"Customers who spent 100 CAD or more:\")\n",
    "print(high_spending_customers[['first', 'last', 'price(CAD)']])"
   ]
  },
  {
   "cell_type": "code",
   "execution_count": 23,
   "id": "247d9ede",
   "metadata": {},
   "outputs": [],
   "source": [
    "# 11. How many emails are associated with this credit card number '5020000000000230'?\n",
    "\n",
    "cc_number = '5020000000000230'\n",
    "emails_associated = df[df['cc_no'] == cc_number]['email']\n",
    "num_emails = len(emails_associated)\n"
   ]
  },
  {
   "cell_type": "code",
   "execution_count": 24,
   "id": "659a11ca",
   "metadata": {},
   "outputs": [
    {
     "name": "stdout",
     "output_type": "stream",
     "text": [
      "Emails associated with credit card 5020000000000230:\n",
      "Series([], Name: email, dtype: object)\n",
      "Number of emails: 0\n"
     ]
    }
   ],
   "source": [
    "\n",
    "print(f\"Emails associated with credit card {cc_number}:\")\n",
    "print(emails_associated)\n",
    "print(f\"Number of emails: {num_emails}\")"
   ]
  },
  {
   "cell_type": "code",
   "execution_count": 26,
   "id": "bd4ff591",
   "metadata": {},
   "outputs": [],
   "source": [
    "# 12. We need to send new cards to the customers well before they expire. How many cards are expiring in 2019?\n",
    "\n",
    "cards_expiring_2019 = df[df['cc_exp'].str.endswith('/2019')]\n",
    "num_cards_expiring_2019 = len(cards_expiring_2019)"
   ]
  },
  {
   "cell_type": "code",
   "execution_count": 27,
   "id": "e21f1291",
   "metadata": {},
   "outputs": [
    {
     "name": "stdout",
     "output_type": "stream",
     "text": [
      "Number of cards expiring in 2019: 2684\n"
     ]
    }
   ],
   "source": [
    "print(f\"Number of cards expiring in 2019: {num_cards_expiring_2019}\")"
   ]
  },
  {
   "cell_type": "code",
   "execution_count": 28,
   "id": "8d91aecf",
   "metadata": {},
   "outputs": [],
   "source": [
    "# 13. How many people use Visa as their Credit Card Provider?\n",
    "\n",
    "visa_users = df[df['cc_type'] == 'Visa']\n",
    "num_visa_users = len(visa_users)"
   ]
  },
  {
   "cell_type": "code",
   "execution_count": 29,
   "id": "07f16768",
   "metadata": {},
   "outputs": [
    {
     "name": "stdout",
     "output_type": "stream",
     "text": [
      "Number of Visa users: 1721\n"
     ]
    }
   ],
   "source": [
    "print(f\"Number of Visa users: {num_visa_users}\")"
   ]
  },
  {
   "cell_type": "code",
   "execution_count": 30,
   "id": "3da34ae0",
   "metadata": {},
   "outputs": [],
   "source": [
    "# 14. Can you find the customer who spent 100 CAD using Visa?\n",
    "\n",
    "\n",
    "visa_100_cad = df[(df['cc_type'] == 'Visa') & (df['price(CAD)'] == 100)]"
   ]
  },
  {
   "cell_type": "code",
   "execution_count": 31,
   "id": "357bbc3a",
   "metadata": {},
   "outputs": [
    {
     "name": "stdout",
     "output_type": "stream",
     "text": [
      "Customer who spent 100 CAD using Visa:\n",
      "      first   last  price(CAD) cc_type\n",
      "76  Gregory  Brown       100.0    Visa\n"
     ]
    }
   ],
   "source": [
    "print(\"Customer who spent 100 CAD using Visa:\")\n",
    "print(visa_100_cad[['first', 'last', 'price(CAD)', 'cc_type']])\n"
   ]
  },
  {
   "cell_type": "code",
   "execution_count": 32,
   "id": "85fb536e",
   "metadata": {},
   "outputs": [],
   "source": [
    "# 15. What are the two most common professions?\n",
    "\n",
    "top_professions = df['profession'].value_counts().head(2)"
   ]
  },
  {
   "cell_type": "code",
   "execution_count": 33,
   "id": "09696252",
   "metadata": {},
   "outputs": [
    {
     "name": "stdout",
     "output_type": "stream",
     "text": [
      "Top 2 most common professions:\n",
      "Preschool Teacher       112\n",
      "Distribution Manager    107\n",
      "Name: profession, dtype: int64\n"
     ]
    }
   ],
   "source": [
    "print(\"Top 2 most common professions:\")\n",
    "print(top_professions)"
   ]
  },
  {
   "cell_type": "code",
   "execution_count": 34,
   "id": "2964aa8d",
   "metadata": {},
   "outputs": [],
   "source": [
    "# 16. Can you tell the top 5 most popular email providers? (e.g., gmail.com, yahoo.com, etc.)\n",
    "\n",
    "# Extract email providers\n",
    "df['email_provider'] = df['email'].str.split('@').str[1]\n",
    "\n",
    "# Top 5 email providers\n",
    "top_email_providers = df['email_provider'].value_counts().head(5)"
   ]
  },
  {
   "cell_type": "code",
   "execution_count": 35,
   "id": "1c50e2f3",
   "metadata": {},
   "outputs": [
    {
     "name": "stdout",
     "output_type": "stream",
     "text": [
      "Top 5 most popular email providers:\n",
      "gmail.com      1687\n",
      "me.com         1676\n",
      "outlook.com    1664\n",
      "live.com       1660\n",
      "hotmail.com    1659\n",
      "Name: email_provider, dtype: int64\n"
     ]
    }
   ],
   "source": [
    "print(\"Top 5 most popular email providers:\")\n",
    "print(top_email_providers)"
   ]
  },
  {
   "cell_type": "code",
   "execution_count": 36,
   "id": "0062dd04",
   "metadata": {},
   "outputs": [],
   "source": [
    "# 17. Is there any customer who is using an email with \"am.edu\"?\n",
    "\n",
    "am_edu_emails = df[df['email'].str.contains('am.edu')]\n"
   ]
  },
  {
   "cell_type": "code",
   "execution_count": 37,
   "id": "def91e95",
   "metadata": {},
   "outputs": [
    {
     "name": "stdout",
     "output_type": "stream",
     "text": [
      "Customers using email with 'am.edu':\n",
      "       first      last         email\n",
      "150  Loretta  Fletcher  barit@am.edu\n"
     ]
    }
   ],
   "source": [
    "print(\"Customers using email with 'am.edu':\")\n",
    "print(am_edu_emails[['first', 'last', 'email']])"
   ]
  },
  {
   "cell_type": "code",
   "execution_count": 38,
   "id": "07690958",
   "metadata": {},
   "outputs": [],
   "source": [
    "# 18. Which day of the week does the store get more customers?\n",
    "\n",
    "most_common_weekday = df['weekday'].value_counts().idxmax()"
   ]
  },
  {
   "cell_type": "code",
   "execution_count": 39,
   "id": "4cec5599",
   "metadata": {},
   "outputs": [
    {
     "name": "stdout",
     "output_type": "stream",
     "text": [
      "Most common day of the week: Saturday\n"
     ]
    }
   ],
   "source": [
    "print(f\"Most common day of the week: {most_common_weekday}\")"
   ]
  },
  {
   "cell_type": "code",
   "execution_count": null,
   "id": "fddcb12e",
   "metadata": {},
   "outputs": [],
   "source": []
  },
  {
   "cell_type": "code",
   "execution_count": null,
   "id": "43509239",
   "metadata": {},
   "outputs": [],
   "source": []
  },
  {
   "cell_type": "code",
   "execution_count": null,
   "id": "0bf12117",
   "metadata": {},
   "outputs": [],
   "source": []
  },
  {
   "cell_type": "code",
   "execution_count": null,
   "id": "96656f58",
   "metadata": {},
   "outputs": [],
   "source": []
  }
 ],
 "metadata": {
  "kernelspec": {
   "display_name": "Python 3 (ipykernel)",
   "language": "python",
   "name": "python3"
  },
  "language_info": {
   "codemirror_mode": {
    "name": "ipython",
    "version": 3
   },
   "file_extension": ".py",
   "mimetype": "text/x-python",
   "name": "python",
   "nbconvert_exporter": "python",
   "pygments_lexer": "ipython3",
   "version": "3.11.4"
  }
 },
 "nbformat": 4,
 "nbformat_minor": 5
}
