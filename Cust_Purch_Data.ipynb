{
 "cells": [
  {
   "cell_type": "markdown",
   "id": "a361c1df",
   "metadata": {},
   "source": [
    "# Ecommerce Purchases Exercise Overview"
   ]
  },
  {
   "cell_type": "code",
   "execution_count": 1,
   "id": "d4df6d58",
   "metadata": {},
   "outputs": [],
   "source": [
    "import pandas as pd"
   ]
  },
  {
   "cell_type": "code",
   "execution_count": 2,
   "id": "672ce027",
   "metadata": {},
   "outputs": [],
   "source": [
    "df = pd.read_csv('Cust_Purch_FakeData.csv')"
   ]
  },
  {
   "cell_type": "code",
   "execution_count": 3,
   "id": "5e2f30c1",
   "metadata": {},
   "outputs": [
    {
     "name": "stdout",
     "output_type": "stream",
     "text": [
      "  prefix    first       last              email  gender  age  \\\n",
      "0    Dr.      Ray     Morton    sebvajom@kol.km    Male   38   \n",
      "1   Miss  Claudia  Rodriquez      acu@jatsot.ug  Female   51   \n",
      "2   Miss    Harry      Meyer          zuz@lo.wf  Female   51   \n",
      "3   Miss    Edith    Gilbert  hansohsi@jupec.md  Female   55   \n",
      "4    Dr.     Lura     Murphy     webediti@je.st  Female   20   \n",
      "\n",
      "                        company              profession           phone  \\\n",
      "0                Medtronic Inc.        Health Therapist  (987) 619-2695   \n",
      "1  Ames Department Stores, Inc.        Health Therapist  (356) 736-7352   \n",
      "2                     CSX Corp.     Political Scientist  (539) 246-1806   \n",
      "3        Murphy Oil Corporation  Transportation Manager  (984) 962-7494   \n",
      "4                  PETsMART Inc            Statistician  (902) 568-9748   \n",
      "\n",
      "    postal province             cc_no   cc_exp                    cc_type  \\\n",
      "0  B6V 3W3       MB  5020000000000230  05/2018                       Solo   \n",
      "1  G7M 5F3       SK  5020000000000230  07/2028                       Visa   \n",
      "2  A0Z 6P9       NS  6300000000000000  02/2023                     Switch   \n",
      "3  P9I 9H3       YT  3530000000000000  02/2028                    Maestro   \n",
      "4  S1A 6K0       ON  4030000000000000  10/2025  Diners Club International   \n",
      "\n",
      "   price(CAD) fav_color              ip    weekday ampm        date  \n",
      "0        8.36      Blue    126.23.139.2     Sunday   pm  04/05/1930  \n",
      "1       68.31     Black  106.198.76.211    Tuesday   am  12/20/1926  \n",
      "2       34.65     Black  186.150.187.29  Wednesday   pm  08/20/1931  \n",
      "3       64.59     White   80.140.57.161   Saturday   am  06/18/2001  \n",
      "4       20.83    Yellow   211.103.43.41     Friday   pm  06/14/2045  \n"
     ]
    }
   ],
   "source": [
    "print(df.head(5))"
   ]
  },
  {
   "cell_type": "code",
   "execution_count": 4,
   "id": "31562190",
   "metadata": {},
   "outputs": [
    {
     "name": "stdout",
     "output_type": "stream",
     "text": [
      "<class 'pandas.core.frame.DataFrame'>\n",
      "RangeIndex: 30000 entries, 0 to 29999\n",
      "Data columns (total 20 columns):\n",
      " #   Column      Non-Null Count  Dtype  \n",
      "---  ------      --------------  -----  \n",
      " 0   prefix      30000 non-null  object \n",
      " 1   first       30000 non-null  object \n",
      " 2   last        30000 non-null  object \n",
      " 3   email       30000 non-null  object \n",
      " 4   gender      30000 non-null  object \n",
      " 5   age         30000 non-null  int64  \n",
      " 6   company     30000 non-null  object \n",
      " 7   profession  30000 non-null  object \n",
      " 8   phone       30000 non-null  object \n",
      " 9   postal      30000 non-null  object \n",
      " 10  province    30000 non-null  object \n",
      " 11  cc_no       30000 non-null  int64  \n",
      " 12  cc_exp      30000 non-null  object \n",
      " 13  cc_type     30000 non-null  object \n",
      " 14  price(CAD)  30000 non-null  float64\n",
      " 15  fav_color   30000 non-null  object \n",
      " 16  ip          30000 non-null  object \n",
      " 17  weekday     30000 non-null  object \n",
      " 18  ampm        30000 non-null  object \n",
      " 19  date        30000 non-null  object \n",
      "dtypes: float64(1), int64(2), object(17)\n",
      "memory usage: 4.6+ MB\n",
      "None\n"
     ]
    }
   ],
   "source": [
    "print(df.info())"
   ]
  },
  {
   "cell_type": "code",
   "execution_count": 5,
   "id": "49c9223d",
   "metadata": {},
   "outputs": [],
   "source": [
    "max_age = df['age'].max()\n",
    "min_age = df['age'].min()\n",
    "mean_age = df['age'].mean()"
   ]
  },
  {
   "cell_type": "code",
   "execution_count": 6,
   "id": "ace80c4c",
   "metadata": {},
   "outputs": [
    {
     "name": "stdout",
     "output_type": "stream",
     "text": [
      "Max. age of the customer is: 65\n",
      "Min. age of the customer is: 18\n",
      "Avg. age of the customer is: 41.550066666666666\n"
     ]
    }
   ],
   "source": [
    "print(f\"Max. age of the customer is: {max_age}\")\n",
    "print(f\"Min. age of the customer is: {min_age}\")\n",
    "print(f\"Avg. age of the customer is: {mean_age}\")"
   ]
  },
  {
   "cell_type": "code",
   "execution_count": 7,
   "id": "715e853e",
   "metadata": {},
   "outputs": [],
   "source": [
    "common_names = df['first'].value_counts().head(3)"
   ]
  },
  {
   "cell_type": "code",
   "execution_count": 8,
   "id": "998121f7",
   "metadata": {},
   "outputs": [
    {
     "name": "stdout",
     "output_type": "stream",
     "text": [
      "Willie     130\n",
      "Francis    124\n",
      "Eula        86\n",
      "Name: first, dtype: int64\n"
     ]
    }
   ],
   "source": [
    "print(common_names)"
   ]
  },
  {
   "cell_type": "code",
   "execution_count": 9,
   "id": "5a8409ac",
   "metadata": {},
   "outputs": [],
   "source": [
    "phone_counts = df['phone'].value_counts()\n",
    "duplicate_phone = phone_counts[phone_counts > 1]"
   ]
  },
  {
   "cell_type": "code",
   "execution_count": 10,
   "id": "f1db7892",
   "metadata": {},
   "outputs": [
    {
     "name": "stdout",
     "output_type": "stream",
     "text": [
      "(263) 382-8004    2\n",
      "Name: phone, dtype: int64\n"
     ]
    }
   ],
   "source": [
    "print(duplicate_phone)"
   ]
  },
  {
   "cell_type": "code",
   "execution_count": 11,
   "id": "32597743",
   "metadata": {},
   "outputs": [],
   "source": [
    "duplicate_customers = df[df['phone'] == duplicate_phone.index[0]]"
   ]
  },
  {
   "cell_type": "code",
   "execution_count": 12,
   "id": "ec853a89",
   "metadata": {},
   "outputs": [
    {
     "name": "stdout",
     "output_type": "stream",
     "text": [
      "   prefix  first   last                email  gender  age            company  \\\n",
      "15   Mrs.  Lilly  Tyler      kofadu@itohi.tf  Female   38          CSX Corp.   \n",
      "16   Mrs.  Peter   Cain  megkosig@anazeor.gn    Male   27  Campbell Soup Co.   \n",
      "\n",
      "             profession           phone   postal province             cc_no  \\\n",
      "15  Structural Engineer  (263) 382-8004  V7K 1E3       ON    30000000000000   \n",
      "16   Insurance Adjuster  (263) 382-8004  E8T 2B4       YT  3530000000000000   \n",
      "\n",
      "     cc_exp                    cc_type  price(CAD) fav_color              ip  \\\n",
      "15  11/2022  Diners Club Carte Blanche        9.61    Yellow   74.124.37.227   \n",
      "16  03/2024                       Solo       13.74     Black  25.207.141.135   \n",
      "\n",
      "     weekday ampm        date  \n",
      "15  Saturday   am  03/30/1985  \n",
      "16   Tuesday   am  08/05/1950  \n"
     ]
    }
   ],
   "source": [
    "print(duplicate_customers)"
   ]
  },
  {
   "cell_type": "code",
   "execution_count": 13,
   "id": "9113cefc",
   "metadata": {},
   "outputs": [],
   "source": [
    "# 7. Number of customers with profession \"Structural Engineer\"\n",
    "structural_engineers = df[df['profession'] == 'Structural Engineer']"
   ]
  },
  {
   "cell_type": "code",
   "execution_count": 14,
   "id": "f5680596",
   "metadata": {},
   "outputs": [
    {
     "name": "stdout",
     "output_type": "stream",
     "text": [
      "prefix        87\n",
      "first         87\n",
      "last          87\n",
      "email         87\n",
      "gender        87\n",
      "age           87\n",
      "company       87\n",
      "profession    87\n",
      "phone         87\n",
      "postal        87\n",
      "province      87\n",
      "cc_no         87\n",
      "cc_exp        87\n",
      "cc_type       87\n",
      "price(CAD)    87\n",
      "fav_color     87\n",
      "ip            87\n",
      "weekday       87\n",
      "ampm          87\n",
      "date          87\n",
      "dtype: int64\n"
     ]
    }
   ],
   "source": [
    "print(structural_engineers.count())"
   ]
  },
  {
   "cell_type": "code",
   "execution_count": 15,
   "id": "425def72",
   "metadata": {},
   "outputs": [],
   "source": [
    "# 8. Number of male customers who are 'Structural Engineer'\n",
    "male_structural_engineers = structural_engineers[structural_engineers['gender'] == 'Male']"
   ]
  },
  {
   "cell_type": "code",
   "execution_count": 16,
   "id": "f6a1e396",
   "metadata": {},
   "outputs": [
    {
     "name": "stdout",
     "output_type": "stream",
     "text": [
      "prefix        43\n",
      "first         43\n",
      "last          43\n",
      "email         43\n",
      "gender        43\n",
      "age           43\n",
      "company       43\n",
      "profession    43\n",
      "phone         43\n",
      "postal        43\n",
      "province      43\n",
      "cc_no         43\n",
      "cc_exp        43\n",
      "cc_type       43\n",
      "price(CAD)    43\n",
      "fav_color     43\n",
      "ip            43\n",
      "weekday       43\n",
      "ampm          43\n",
      "date          43\n",
      "dtype: int64\n"
     ]
    }
   ],
   "source": [
    "print(male_structural_engineers.count())"
   ]
  },
  {
   "cell_type": "code",
   "execution_count": 17,
   "id": "75254975",
   "metadata": {},
   "outputs": [],
   "source": [
    "# 9. Female Structural Engineers from province Alberta (AB)\n",
    "female_structural_engineers_ab = structural_engineers[(structural_engineers['gender'] == 'Female') & (structural_engineers['province'] == 'AB')]"
   ]
  },
  {
   "cell_type": "code",
   "execution_count": 18,
   "id": "77b4ab55",
   "metadata": {},
   "outputs": [
    {
     "name": "stdout",
     "output_type": "stream",
     "text": [
      "      prefix first      last              email  gender  age  \\\n",
      "8858     Dr.   Roy   Stanley  apiunvo@ehasom.ir  Female   39   \n",
      "9058     Mr.  Lora   Kennedy    dennap@rabac.se  Female   51   \n",
      "24736   Mrs.  Nell  Richards          dob@me.ki  Female   18   \n",
      "29865   Mrs.   Don  McDaniel        naf@zudu.bj  Female   37   \n",
      "\n",
      "                              company           profession           phone  \\\n",
      "8858       Cincinnati Financial Corp.  Structural Engineer  (876) 758-2929   \n",
      "9058              BJ Services Company  Structural Engineer  (305) 786-6959   \n",
      "24736    Telephone & Data Systems Inc  Structural Engineer  (262) 681-5018   \n",
      "29865  Anadarko Petroleum Corporation  Structural Engineer  (238) 789-2825   \n",
      "\n",
      "        postal province             cc_no   cc_exp  \\\n",
      "8858   N5A 6L2       AB  6300000000000000  02/2022   \n",
      "9058   N3R 4B7       AB   201000000000000  06/2019   \n",
      "24736  N3Y 3G2       AB   347000000000000  07/2028   \n",
      "29865  B4A 8Q9       AB  5610000000000000  12/2022   \n",
      "\n",
      "                                  cc_type  price(CAD) fav_color  \\\n",
      "8858                         InstaPayment       31.86       Red   \n",
      "9058   Diners Club United States & Canada       53.29     Black   \n",
      "24736                    American Express       76.28      Blue   \n",
      "29865                          Mastercard       62.71      Blue   \n",
      "\n",
      "                    ip    weekday ampm        date  \n",
      "8858    165.249.159.57     Sunday   pm  12/25/1903  \n",
      "9058    42.216.243.206   Thursday   pm  06/06/2028  \n",
      "24736     91.16.30.156  Wednesday   pm  07/14/1951  \n",
      "29865  162.233.117.142     Sunday   pm  11/03/1989  \n"
     ]
    }
   ],
   "source": [
    "print(female_structural_engineers_ab)"
   ]
  },
  {
   "cell_type": "code",
   "execution_count": 19,
   "id": "6c8d8264",
   "metadata": {},
   "outputs": [],
   "source": [
    "# 10. Max, min, and average spending\n",
    "max_spending = df['price(CAD)'].max()\n",
    "min_spending = df['price(CAD)'].min()\n",
    "avg_spending = df['price(CAD)'].mean()"
   ]
  },
  {
   "cell_type": "code",
   "execution_count": 20,
   "id": "6c11ac8b",
   "metadata": {},
   "outputs": [
    {
     "name": "stdout",
     "output_type": "stream",
     "text": [
      "Max. spending: 100.0\n",
      "Min. spending: 0.0\n",
      "Avg. spending: 49.990775\n"
     ]
    }
   ],
   "source": [
    "print(f\"Max. spending: {max_spending}\")\n",
    "print(f\"Min. spending: {min_spending}\")\n",
    "print(f\"Avg. spending: {avg_spending}\")"
   ]
  },
  {
   "cell_type": "code",
   "execution_count": 21,
   "id": "9d537beb",
   "metadata": {},
   "outputs": [],
   "source": [
    "# 11. Customers who did not spend anything\n",
    "zero_spending_customers = df[df['price(CAD)'] == 0]"
   ]
  },
  {
   "cell_type": "code",
   "execution_count": 22,
   "id": "132d4794",
   "metadata": {},
   "outputs": [
    {
     "name": "stdout",
     "output_type": "stream",
     "text": [
      "      prefix  first   last           email  gender  age              company  \\\n",
      "5320     Dr.  Bruce  Bryan  ru@pubuspuh.cl    Male   59  Wal-Mart Stores Inc   \n",
      "10597   Mrs.  Flora  Clark      wad@me.com  Female   27         MetLife Inc.   \n",
      "\n",
      "                profession           phone   postal province            cc_no  \\\n",
      "5320   Engineer Technician  (709) 446-8317  H6H 3Y0       NU  201000000000000   \n",
      "10597      Cruise Director  (775) 373-6590  B2U 8K6       NB   30100000000000   \n",
      "\n",
      "        cc_exp                    cc_type  price(CAD) fav_color  \\\n",
      "5320   04/2024                   Bankcard         0.0     White   \n",
      "10597  05/2020  Diners Club Carte Blanche         0.0       Red   \n",
      "\n",
      "                  ip    weekday ampm        date  \n",
      "5320     82.70.62.64  Wednesday   am  12/11/1900  \n",
      "10597  231.156.15.63   Thursday   pm  08/22/1904  \n"
     ]
    }
   ],
   "source": [
    "print(zero_spending_customers)"
   ]
  },
  {
   "cell_type": "code",
   "execution_count": 23,
   "id": "1082b91a",
   "metadata": {},
   "outputs": [],
   "source": [
    "# 12. Customers who spent 100 CAD or more\n",
    "high_spending_customers = df[df['price(CAD)'] >= 100]"
   ]
  },
  {
   "cell_type": "code",
   "execution_count": 24,
   "id": "b0200b04",
   "metadata": {},
   "outputs": [
    {
     "name": "stdout",
     "output_type": "stream",
     "text": [
      "      prefix    first         last          email  gender  age  \\\n",
      "76      Mrs.  Gregory        Brown     hav@jek.gs  Female   31   \n",
      "21093   Mrs.     Cody  Christensen    get@jovu.ag    Male   28   \n",
      "24385   Miss   Lizzie        Dixon  goh@tuwjaz.gd  Female   38   \n",
      "\n",
      "                         company              profession           phone  \\\n",
      "76           E*Trade Group, Inc.                Novelist  (625) 537-8923   \n",
      "21093        National City Corp.  Hospital Administrator  (261) 737-3292   \n",
      "24385  FleetBoston Financial Co.    Compensation Analyst  (989) 239-1752   \n",
      "\n",
      "        postal province             cc_no   cc_exp   cc_type  price(CAD)  \\\n",
      "76     X3S 4Q2       PE  6010000000000000  04/2018      Visa       100.0   \n",
      "21093  X0S 1O5       PE   201000000000000  03/2024       JCB       100.0   \n",
      "24385  V8X 9V6       NB  6300000000000000  07/2019  Bankcard       100.0   \n",
      "\n",
      "      fav_color             ip    weekday ampm        date  \n",
      "76        Green  212.100.18.95     Monday   am  10/23/2063  \n",
      "21093     Green  168.48.19.165  Wednesday   pm  03/28/1955  \n",
      "24385      Blue   140.87.99.78   Saturday   pm  03/03/1983  \n"
     ]
    }
   ],
   "source": [
    "print(high_spending_customers)"
   ]
  },
  {
   "cell_type": "code",
   "execution_count": 25,
   "id": "57ab29f2",
   "metadata": {},
   "outputs": [],
   "source": [
    "# 13. Emails associated with credit card number '5020000000000230'\n",
    "\n",
    "cc_emails = df[df['cc_no'] == 5020000000000230]['email']"
   ]
  },
  {
   "cell_type": "code",
   "execution_count": 26,
   "id": "1b7aed29",
   "metadata": {},
   "outputs": [
    {
     "name": "stdout",
     "output_type": "stream",
     "text": [
      "0    sebvajom@kol.km\n",
      "1      acu@jatsot.ug\n",
      "Name: email, dtype: object\n"
     ]
    }
   ],
   "source": [
    "print(cc_emails)"
   ]
  },
  {
   "cell_type": "code",
   "execution_count": 27,
   "id": "a83cb7df",
   "metadata": {},
   "outputs": [],
   "source": [
    "# 14. Number of cards expiring in 2019\n",
    "expiring_2019 = df[df['cc_exp'].apply(lambda x: x[3:] == '2019')].count()\n"
   ]
  },
  {
   "cell_type": "code",
   "execution_count": 28,
   "id": "5f3800c9",
   "metadata": {},
   "outputs": [
    {
     "name": "stdout",
     "output_type": "stream",
     "text": [
      "prefix        2684\n",
      "first         2684\n",
      "last          2684\n",
      "email         2684\n",
      "gender        2684\n",
      "age           2684\n",
      "company       2684\n",
      "profession    2684\n",
      "phone         2684\n",
      "postal        2684\n",
      "province      2684\n",
      "cc_no         2684\n",
      "cc_exp        2684\n",
      "cc_type       2684\n",
      "price(CAD)    2684\n",
      "fav_color     2684\n",
      "ip            2684\n",
      "weekday       2684\n",
      "ampm          2684\n",
      "date          2684\n",
      "dtype: int64\n"
     ]
    }
   ],
   "source": [
    "print(expiring_2019)"
   ]
  },
  {
   "cell_type": "code",
   "execution_count": 29,
   "id": "a6b17b02",
   "metadata": {},
   "outputs": [],
   "source": [
    "# 15. Number of people using Visa as their Credit Card Provider\n",
    "visa_users = df[df['cc_type'] == 'Visa']"
   ]
  },
  {
   "cell_type": "code",
   "execution_count": 30,
   "id": "fb1b7507",
   "metadata": {},
   "outputs": [
    {
     "name": "stdout",
     "output_type": "stream",
     "text": [
      "1721\n"
     ]
    }
   ],
   "source": [
    "print(len(visa_users))"
   ]
  },
  {
   "cell_type": "code",
   "execution_count": 31,
   "id": "6b6f0dcf",
   "metadata": {},
   "outputs": [],
   "source": [
    "# 16. Customer who spent 100 CAD using Visa\n",
    "visa_high_spending = visa_users[visa_users['price(CAD)'] == 100]"
   ]
  },
  {
   "cell_type": "code",
   "execution_count": 32,
   "id": "d842f266",
   "metadata": {},
   "outputs": [
    {
     "name": "stdout",
     "output_type": "stream",
     "text": [
      "   prefix    first   last       email  gender  age              company  \\\n",
      "76   Mrs.  Gregory  Brown  hav@jek.gs  Female   31  E*Trade Group, Inc.   \n",
      "\n",
      "   profession           phone   postal province             cc_no   cc_exp  \\\n",
      "76   Novelist  (625) 537-8923  X3S 4Q2       PE  6010000000000000  04/2018   \n",
      "\n",
      "   cc_type  price(CAD) fav_color             ip weekday ampm        date  \n",
      "76    Visa       100.0     Green  212.100.18.95  Monday   am  10/23/2063  \n"
     ]
    }
   ],
   "source": [
    "print(visa_high_spending)"
   ]
  },
  {
   "cell_type": "code",
   "execution_count": 33,
   "id": "b8675cc6",
   "metadata": {},
   "outputs": [],
   "source": [
    "# 17. Two most common professions\n",
    "common_professions = df['profession'].value_counts().head(2)"
   ]
  },
  {
   "cell_type": "code",
   "execution_count": 34,
   "id": "53f2a657",
   "metadata": {},
   "outputs": [
    {
     "name": "stdout",
     "output_type": "stream",
     "text": [
      "Preschool Teacher       112\n",
      "Distribution Manager    107\n",
      "Name: profession, dtype: int64\n"
     ]
    }
   ],
   "source": [
    "print(common_professions)"
   ]
  },
  {
   "cell_type": "code",
   "execution_count": 35,
   "id": "61690b47",
   "metadata": {},
   "outputs": [],
   "source": [
    "# 18. Top 5 most popular email providers\n",
    "\n",
    "df['email_provider'] = df['email'].apply(lambda x: x.split('@')[1])\n",
    "top_email_providers = df['email_provider'].value_counts().head(5)"
   ]
  },
  {
   "cell_type": "code",
   "execution_count": 36,
   "id": "ea8f0885",
   "metadata": {},
   "outputs": [
    {
     "name": "stdout",
     "output_type": "stream",
     "text": [
      "gmail.com      1687\n",
      "me.com         1676\n",
      "outlook.com    1664\n",
      "live.com       1660\n",
      "hotmail.com    1659\n",
      "Name: email_provider, dtype: int64\n"
     ]
    }
   ],
   "source": [
    "print(top_email_providers)"
   ]
  },
  {
   "cell_type": "code",
   "execution_count": 37,
   "id": "e7471ac0",
   "metadata": {},
   "outputs": [],
   "source": [
    "# 19. Customers using email with \"am.edu\"\n",
    "\n",
    "am_edu_customers = df[df['email'].apply(lambda x: x.split('@')[1] == 'am.edu')]"
   ]
  },
  {
   "cell_type": "code",
   "execution_count": 38,
   "id": "27f9c3e4",
   "metadata": {},
   "outputs": [
    {
     "name": "stdout",
     "output_type": "stream",
     "text": [
      "    prefix    first      last         email  gender  age  \\\n",
      "150   Miss  Loretta  Fletcher  barit@am.edu  Female   48   \n",
      "\n",
      "                     company                profession           phone  \\\n",
      "150  York International Corp  Rehabilitation Counselor  (323) 279-8038   \n",
      "\n",
      "      postal  ...             cc_no   cc_exp  \\\n",
      "150  E5X 8L0  ...  6330000000000000  05/2021   \n",
      "\n",
      "                                cc_type price(CAD)  fav_color              ip  \\\n",
      "150  Diners Club United States & Canada      97.26      White  147.57.240.225   \n",
      "\n",
      "    weekday ampm        date email_provider  \n",
      "150  Monday   am  11/07/2066         am.edu  \n",
      "\n",
      "[1 rows x 21 columns]\n"
     ]
    }
   ],
   "source": [
    "print(am_edu_customers)"
   ]
  },
  {
   "cell_type": "code",
   "execution_count": 43,
   "id": "25a39fcd",
   "metadata": {},
   "outputs": [],
   "source": [
    "# 20. Day of the week with the most customers\n",
    "\n",
    "busiest_day = df[\"weekday\"].value_counts().head()"
   ]
  },
  {
   "cell_type": "code",
   "execution_count": 44,
   "id": "d35f29d6",
   "metadata": {},
   "outputs": [
    {
     "name": "stdout",
     "output_type": "stream",
     "text": [
      "Saturday     4376\n",
      "Wednesday    4365\n",
      "Thursday     4327\n",
      "Friday       4316\n",
      "Monday       4216\n",
      "Name: weekday, dtype: int64\n"
     ]
    }
   ],
   "source": [
    "print(busiest_day)"
   ]
  },
  {
   "cell_type": "code",
   "execution_count": null,
   "id": "a3032562",
   "metadata": {},
   "outputs": [],
   "source": []
  },
  {
   "cell_type": "code",
   "execution_count": null,
   "id": "262ab69b",
   "metadata": {},
   "outputs": [],
   "source": []
  }
 ],
 "metadata": {
  "kernelspec": {
   "display_name": "Python 3 (ipykernel)",
   "language": "python",
   "name": "python3"
  },
  "language_info": {
   "codemirror_mode": {
    "name": "ipython",
    "version": 3
   },
   "file_extension": ".py",
   "mimetype": "text/x-python",
   "name": "python",
   "nbconvert_exporter": "python",
   "pygments_lexer": "ipython3",
   "version": "3.11.4"
  }
 },
 "nbformat": 4,
 "nbformat_minor": 5
}
